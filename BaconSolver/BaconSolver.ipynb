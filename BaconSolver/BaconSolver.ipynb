{
 "cells": [
  {
   "cell_type": "markdown",
   "metadata": {},
   "source": [
    "## Introduction\n",
    "\n",
    "In this project, I implement and apply the breadth first search algorithm to a classic problem of finding an actor's Bacon Number. If you are not familiar with this game, then I forgive you and will now explain the game. The idea for it may have come from an interview with *Premiere* magazine when Kevin Bacon stated that \"he had worked with everybody in Hollywood or someone who’s worked with them.\" Hence the game is to find the shortest connection between Kevin Bacon and a given actor. Kevin Bacon is the only person with a Bacon number of 0, and every person that has been in the same film as Kevin Bacon has a Bacon number of 1. An actor that has never been in a film with Kevin Bacon, but has worked with someone with a Bacon number of 1 will have Bacon number of 2. So finding an actor's Bacon Number is as simple as finding the length of the shortest connecting path between Kevin Bacon and that actor."
   ]
  },
  {
   "cell_type": "markdown",
   "metadata": {},
   "source": [
    "![Kevin Bacon](https://upload.wikimedia.org/wikipedia/commons/d/d2/Kevin_Bacon.jpg)"
   ]
  },
  {
   "cell_type": "markdown",
   "metadata": {},
   "source": [
    "## Implementation Details\n",
    "The Internert Movie Database (IMDb) is the source of data used to make the graph. There are two options for how to create the graph. Both have advantages and drawbacks which I will briefly explain. In the end I chose option 2.\n",
    "#### Option 1: Only actors are vertices\n",
    "This is the first implementation that comes to mind. We could initialize all of the actors as nodes. Then to create the edges, we find all of the actors that participated in a given movie and create all of the edges to make that set of actors fully connected. This has the advantage of being intuitive. And finding the Bacon number is just a breadth first search and nothing more. However, making a fully connected graph for all of the actors in a given film is an inefficient use of memory. The number of vertices is already quite large, and the number of edges grows approximately as $O(kn^2)$ where $k$ is the number of films and $n$ is the average number of actors in a film. Furthermore, we would have to consider what happens when actors are connected through multiple films.\n",
    "#### Option 2: Actors and films are vertices\n",
    "To reduce the spatial complexity we can instead create connections between actors and the films they were in. In this method, actors are never directly connected to other actors, but only indrectly through movies. This cuts down the spatial complexity to about $O(kn)$. But we now have extra steps for calculating the Kevin Bacon number. After finding the shortest path length, we must then remove the films between them. Additionally, the longer path means we have increased the computation time for each Bacon number calculation. But neither of these drawbacks is a significant difficulty. Since a movie will appear on every other vertice in the path, it is trivial to calculate a Bacon number based on the path length. And since we expect this to be a strongly connected graph anyway, the longer path lengths are not a huge concern. Therefore this is the preferred method since it saves on memory without significant drawbacks.\n",
    "\n",
    "##### Side Note\n",
    "The best option is to calculate and save the Bacon number for all of the actors, or at least the most famous actors. But that sort of detracts from the goal of this project, which is focusing on graphs and search algorithms."
   ]
  },
  {
   "cell_type": "markdown",
   "metadata": {},
   "source": [
    "## The Product\n",
    "I am working on making this interactive. But for now, here are some quick results."
   ]
  },
  {
   "cell_type": "code",
   "execution_count": 1,
   "metadata": {},
   "outputs": [],
   "source": [
    "from bfs_kbacon import BaconSolver\n",
    "mysolver = BaconSolver()"
   ]
  },
  {
   "cell_type": "code",
   "execution_count": 2,
   "metadata": {},
   "outputs": [
    {
     "name": "stdout",
     "output_type": "stream",
     "text": [
      "Bacon, Kevin 0\n",
      "['Bacon, Kevin']\n",
      "\n",
      "Pitt, Brad 2\n",
      "['Pitt, Brad', '12 Years a Slave', 'Fassbender, Michael', 'X-Men: First Class', 'Bacon, Kevin']\n",
      "\n",
      "Ford, Harrison 2\n",
      "['Ford, Harrison', 'Paranoia', 'Till, Lucas', 'X-Men: First Class', 'Bacon, Kevin']\n",
      "\n",
      "Radcliffe, Daniel 2\n",
      "['Radcliffe, Daniel', 'Harry Potter and the Deathly Hallows: Part 2', 'Hurt, John', \"Jayne Mansfield's Car\", 'Bacon, Kevin']\n",
      "\n",
      "Hooda, Randeep 6\n",
      "['Hooda, Randeep', 'Jannat 2', 'Hashmi, Emraan', 'Raaz 3: The Third Dimension', 'Basu, Bipasha', 'Dum Maaro Dum', 'Sam', 'Beneath the Darkness', 'Banfield, Cameron', 'The Lucky One', 'Montgomery, Ritchie', \"Jayne Mansfield's Car\", 'Bacon, Kevin']\n",
      "\n",
      "Dujardin, Jean 3\n",
      "['Dujardin, Jean', 'The Artist', 'Tobin, John H.', 'The Master', 'Skomo, Matthew', 'X-Men: First Class', 'Bacon, Kevin']\n",
      "\n",
      "Medina, Sam 2\n",
      "['Medina, Sam', 'Puncture', 'Slemp, Morgane', 'R.I.P.D.', 'Bacon, Kevin']\n",
      "\n",
      "Johnson, Corey 1\n",
      "['Johnson, Corey', 'X-Men: First Class', 'Bacon, Kevin']\n",
      "\n",
      "Bronfman, Hannah 4\n",
      "['Bronfman, Hannah', 'American Milkshake', 'Fitzpatrick, Leo', 'Cold Comes the Night', 'Cranston, Bryan', 'Total Recall', 'Slemp, Morgane', 'R.I.P.D.', 'Bacon, Kevin']\n",
      "\n",
      "Alexander, Nick 5\n",
      "['Alexander, Nick', 'Extinction: The G.M.O. Chronicles', 'Bähr, Luise', 'What a Man', 'Aleardi, Pasquale', 'Resident Evil: Retribution', 'Li, Bingbing', 'Snow Flower and the Secret Fan', 'Jackman, Hugh', 'X-Men: First Class', 'Bacon, Kevin']\n",
      "\n"
     ]
    }
   ],
   "source": [
    "names = [\"Bacon, Kevin\", \"Pitt, Brad\", \"Ford, Harrison\", \"Radcliffe, Daniel\",\n",
    "         \"Hooda, Randeep\", \"Dujardin, Jean\", \"Medina, Sam\", \"Johnson, Corey\",\n",
    "         \"Bronfman, Hannah\", \"Alexander, Nick\"]\n",
    "\n",
    "for name in names:\n",
    "    print(name, myxsolver.bacon_number(name))\n",
    "    print(mysolver.path_to_bacon(name))\n",
    "    print()"
   ]
  },
  {
   "cell_type": "markdown",
   "metadata": {},
   "source": [
    "## Results\n",
    "It works!"
   ]
  }
 ],
 "metadata": {
  "kernelspec": {
   "display_name": "Python 3",
   "language": "python",
   "name": "python3"
  },
  "language_info": {
   "codemirror_mode": {
    "name": "ipython",
    "version": 3
   },
   "file_extension": ".py",
   "mimetype": "text/x-python",
   "name": "python",
   "nbconvert_exporter": "python",
   "pygments_lexer": "ipython3",
   "version": "3.6.1"
  }
 },
 "nbformat": 4,
 "nbformat_minor": 2
}
