{
 "cells": [
  {
   "cell_type": "code",
   "execution_count": 3,
   "metadata": {
    "collapsed": false
   },
   "outputs": [],
   "source": [
    "import markov_chains as mc"
   ]
  },
  {
   "cell_type": "markdown",
   "metadata": {},
   "source": [
    "We give the sentence generator a text file from which the sentence generator builds a transition matrix contianing the probablilities of transioting from one word to another. The transition matrix also contains the special (start) and (stop) states."
   ]
  },
  {
   "cell_type": "code",
   "execution_count": 12,
   "metadata": {
    "collapsed": false
   },
   "outputs": [
    {
     "name": "stdout",
     "output_type": "stream",
     "text": [
      "i could go on too late\n",
      "it's all good now\n",
      "stay\n",
      "welcome to be found and forth\n",
      "i could finally breathe and they never go on and pick me\n",
      "i know you in my voice is\n",
      "all over me it's gonna fake\n",
      "welcome to do was drowning\n",
      "shake it is say\n"
     ]
    }
   ],
   "source": [
    "Taylor = mc.SentenceGenerator('tswift1989.txt')\n",
    "\n",
    "print Taylor.babble()\n",
    "print Taylor.babble()\n",
    "print Taylor.babble()\n",
    "print Taylor.babble()\n",
    "print Taylor.babble()\n",
    "print Taylor.babble()\n",
    "print Taylor.babble()\n",
    "print Taylor.babble()\n",
    "print Taylor.babble()\n"
   ]
  },
  {
   "cell_type": "code",
   "execution_count": 16,
   "metadata": {
    "collapsed": false
   },
   "outputs": [
    {
     "name": "stdout",
     "output_type": "stream",
     "text": [
      "Hmm? Hmm. And well you who transform into the Dark Side.\n",
      "If you must feel the good from the dark path, forever will it is. Life creates it, makes it dominate your destiny, consume you it dominate your destiny, consume you start down the dark place we cling to anger. Anger leads to let go of greed, that we find only what you fail.\n",
      "You must have learned.\n",
      "The dark side are they.\n",
      "May the Dark Side.\n",
      "If you are they. Easily they flow, quick to the Force, things you have I the dark place we cling to the Force. But beware. Anger, fear, aggression; the Force runs strong in you.\n",
      "Truly wonderful the rock, everywhere, yes.\n"
     ]
    }
   ],
   "source": [
    "yoda = mc.SentenceGenerator('yoda.txt')\n",
    "\n",
    "print yoda.babble()\n",
    "print yoda.babble()\n",
    "print yoda.babble()\n",
    "print yoda.babble()\n",
    "print yoda.babble()\n",
    "print yoda.babble()\n",
    "print yoda.babble()"
   ]
  }
 ],
 "metadata": {
  "anaconda-cloud": {},
  "kernelspec": {
   "display_name": "Python [Root]",
   "language": "python",
   "name": "Python [Root]"
  },
  "language_info": {
   "codemirror_mode": {
    "name": "ipython",
    "version": 2
   },
   "file_extension": ".py",
   "mimetype": "text/x-python",
   "name": "python",
   "nbconvert_exporter": "python",
   "pygments_lexer": "ipython2",
   "version": "2.7.12"
  }
 },
 "nbformat": 4,
 "nbformat_minor": 0
}
