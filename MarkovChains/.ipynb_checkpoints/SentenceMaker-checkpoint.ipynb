{
 "cells": [
  {
   "cell_type": "code",
   "execution_count": 1,
   "metadata": {
    "collapsed": false
   },
   "outputs": [],
   "source": [
    "import markov_chains as mc"
   ]
  },
  {
   "cell_type": "markdown",
   "metadata": {},
   "source": [
    "We give the sentence generator a text file from which the sentence generator builds a transition matrix contianing the probablilities of transioting from one word to another. The transition matrix also contains the special (start) and (stop) states."
   ]
  },
  {
   "cell_type": "code",
   "execution_count": 3,
   "metadata": {
    "collapsed": false
   },
   "outputs": [
    {
     "name": "stdout",
     "output_type": "stream",
     "text": [
      "are we got a long hair won't you insane\n",
      "i watched you when i shake shake it begins\n",
      "you ended it my mind saying it's so we got a straight ahead\n",
      "but i remember oh it's a blank space baby now that we'd grown together died of the girl girl faith and 'round and i stay out of ex-lovers\n",
      "midnight you can tell you get the dark\n",
      "welcome to new york\n",
      "he's so bright but when i am here in your heart i'll put it back each time\n",
      "all you would i got that girl\n",
      "i wish you would wait forever\n"
     ]
    }
   ],
   "source": [
    "Taylor = mc.SentenceGenerator('tswift1989.txt')\n",
    "\n",
    "print Taylor.babble()\n",
    "print Taylor.babble()\n",
    "print Taylor.babble()\n",
    "print Taylor.babble()\n",
    "print Taylor.babble()\n",
    "print Taylor.babble()\n",
    "print Taylor.babble()\n",
    "print Taylor.babble()\n",
    "print Taylor.babble()\n"
   ]
  },
  {
   "cell_type": "code",
   "execution_count": 5,
   "metadata": {
    "collapsed": false
   },
   "outputs": [
    {
     "name": "stdout",
     "output_type": "stream",
     "text": [
      "Do not underestimate the Force.\n",
      "But agree on where he must sweep.\n",
      "Will he was!\n",
      "Size matters not.\n",
      "Yes, even between this line of gravity go, and binds us.\n",
      "No more will it will.\n",
      "Impossible to suffering.\n"
     ]
    }
   ],
   "source": [
    "yoda = mc.SentenceGenerator('yoda.txt')\n",
    "\n",
    "print yoda.babble()\n",
    "print yoda.babble()\n",
    "print yoda.babble()\n",
    "print yoda.babble()\n",
    "print yoda.babble()\n",
    "print yoda.babble()\n",
    "print yoda.babble()"
   ]
  },
  {
   "cell_type": "code",
   "execution_count": null,
   "metadata": {
    "collapsed": true
   },
   "outputs": [],
   "source": []
  }
 ],
 "metadata": {
  "anaconda-cloud": {},
  "kernelspec": {
   "display_name": "Python [Root]",
   "language": "python",
   "name": "Python [Root]"
  },
  "language_info": {
   "codemirror_mode": {
    "name": "ipython",
    "version": 2
   },
   "file_extension": ".py",
   "mimetype": "text/x-python",
   "name": "python",
   "nbconvert_exporter": "python",
   "pygments_lexer": "ipython2",
   "version": "2.7.12"
  }
 },
 "nbformat": 4,
 "nbformat_minor": 0
}
